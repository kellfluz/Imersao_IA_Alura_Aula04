{
  "nbformat": 4,
  "nbformat_minor": 0,
  "metadata": {
    "colab": {
      "provenance": [],
      "authorship_tag": "ABX9TyMPfWkW5u0LAEo1XrcxMKRf",
      "include_colab_link": true
    },
    "kernelspec": {
      "name": "python3",
      "display_name": "Python 3"
    },
    "language_info": {
      "name": "python"
    }
  },
  "cells": [
    {
      "cell_type": "markdown",
      "metadata": {
        "id": "view-in-github",
        "colab_type": "text"
      },
      "source": [
        "<a href=\"https://colab.research.google.com/github/kellfluz/Imersao_IA_Alura_Aula04/blob/main/Imers%C3%A3o_Alura_Aula_4.ipynb\" target=\"_parent\"><img src=\"https://colab.research.google.com/assets/colab-badge.svg\" alt=\"Open In Colab\"/></a>"
      ]
    },
    {
      "cell_type": "markdown",
      "source": [
        "Instalando SDK do Google"
      ],
      "metadata": {
        "id": "Ey8vuy6dOC5-"
      }
    },
    {
      "cell_type": "code",
      "execution_count": 1,
      "metadata": {
        "id": "-i4Ihyp3NnEP"
      },
      "outputs": [],
      "source": [
        "!pip install -q -U google-generativeai"
      ]
    },
    {
      "cell_type": "code",
      "source": [
        "import google.generativeai as genai\n",
        "\n",
        "from google.colab import userdata\n",
        "api_key = userdata.get(\"SECRET_KEY\")\n",
        "genai.configure(api_key=api_key)"
      ],
      "metadata": {
        "id": "B1wVBZ1xOSm0"
      },
      "execution_count": 15,
      "outputs": []
    },
    {
      "cell_type": "markdown",
      "source": [
        "Lista os modelos disponíveis"
      ],
      "metadata": {
        "id": "KqVAESm8OeFI"
      }
    },
    {
      "cell_type": "code",
      "source": [
        "#Lista todos os modelos\n",
        "for m in genai.list_models():\n",
        "  if 'generateContent' in m.supported_generation_methods:\n",
        "    print(m.name)"
      ],
      "metadata": {
        "colab": {
          "base_uri": "https://localhost:8080/",
          "height": 139
        },
        "id": "Ecx6HdJxOkBO",
        "outputId": "447510ea-f43b-4b87-9ea3-053b5fc917dd"
      },
      "execution_count": 5,
      "outputs": [
        {
          "output_type": "stream",
          "name": "stdout",
          "text": [
            "models/gemini-1.0-pro\n",
            "models/gemini-1.0-pro-001\n",
            "models/gemini-1.0-pro-latest\n",
            "models/gemini-1.0-pro-vision-latest\n",
            "models/gemini-1.5-pro-latest\n",
            "models/gemini-pro\n",
            "models/gemini-pro-vision\n"
          ]
        }
      ]
    },
    {
      "cell_type": "code",
      "source": [
        "#Configuração\n",
        "generation_config = {\n",
        "    \"candidate_count\": 1,\n",
        "    \"temperature\": 0.5,\n",
        "}"
      ],
      "metadata": {
        "id": "3-M2XzVCQphT"
      },
      "execution_count": 6,
      "outputs": []
    },
    {
      "cell_type": "code",
      "source": [
        "#Configuração de filtros\n",
        "safety_settings = {\n",
        "    \"harassment\": \"block_none\",\n",
        "    \"hate\": \"block_none\",\n",
        "    \"sexual\": \"block_none\",\n",
        "    \"dangerous\": \"block_none\",\n",
        "}"
      ],
      "metadata": {
        "id": "1eSkyjXXRrnt"
      },
      "execution_count": 7,
      "outputs": []
    },
    {
      "cell_type": "code",
      "source": [
        "#Inicializando o modelo\n",
        "model = genai.GenerativeModel(model_name=\"gemini-1.0-pro\",\n",
        "                              generation_config=generation_config,\n",
        "                              safety_settings=safety_settings)"
      ],
      "metadata": {
        "id": "33gE59RnSsLR"
      },
      "execution_count": 8,
      "outputs": []
    },
    {
      "cell_type": "code",
      "source": [
        "#Input do modelo\n",
        "response = model.generate_content(\"Vamos aprender conteúdo sobre IA. Me dê sugestões.\")\n",
        "print(response.text)"
      ],
      "metadata": {
        "colab": {
          "base_uri": "https://localhost:8080/",
          "height": 781
        },
        "id": "1ZG4FMuPTf83",
        "outputId": "42438805-0921-460c-8192-29f71557807b"
      },
      "execution_count": 9,
      "outputs": [
        {
          "output_type": "stream",
          "name": "stdout",
          "text": [
            "**Conceitos Fundamentais:**\n",
            "\n",
            "* Definição e histórico da IA\n",
            "* Tipos de IA: aprendizado de máquina, aprendizado profundo, processamento de linguagem natural\n",
            "* Algoritmos e técnicas de IA\n",
            "\n",
            "**Aprendizado de Máquina:**\n",
            "\n",
            "* Tipos de aprendizado de máquina: supervisionado, não supervisionado, por reforço\n",
            "* Modelos de aprendizado de máquina: regressão, classificação, agrupamento\n",
            "* Avaliação e seleção de modelos\n",
            "\n",
            "**Aprendizado Profundo:**\n",
            "\n",
            "* Redes neurais: perceptrons, redes neurais convolucionais, redes neurais recorrentes\n",
            "* Arquiteturas de redes neurais: CNNs, RNNs, GANs\n",
            "* Treinamento e otimização de redes neurais\n",
            "\n",
            "**Processamento de Linguagem Natural (PNL):**\n",
            "\n",
            "* Técnicas de PNL: tokenização, análise sintática, análise semântica\n",
            "* Modelos de PNL: modelos de linguagem, modelos de tradução automática\n",
            "* Aplicações de PNL: processamento de texto, reconhecimento de fala\n",
            "\n",
            "**Aplicações de IA:**\n",
            "\n",
            "* Visão computacional: reconhecimento de imagem, detecção de objetos\n",
            "* Processamento de linguagem natural: pesquisa semântica, chatbots\n",
            "* Veículos autônomos: percepção, planejamento, controle\n",
            "* Cuidados de saúde: diagnóstico, tratamento, descoberta de medicamentos\n",
            "* Finanças: previsão, gerenciamento de risco, detecção de fraude\n",
            "\n",
            "**Ética e Implicações Sociais da IA:**\n",
            "\n",
            "* Preocupações éticas: viés, privacidade, responsabilidade\n",
            "* Implicações sociais: desemprego, desigualdade, segurança\n",
            "* Regulamentação e políticas de IA\n",
            "\n",
            "**Recursos de Aprendizagem:**\n",
            "\n",
            "* Cursos online: Coursera, edX, Udacity\n",
            "* Livros: \"Inteligência Artificial: Uma Abordagem Moderna\" (Russell e Norvig), \"Aprendizado Profundo\" (Goodfellow, Bengio e Courville)\n",
            "* Tutoriais e documentação: TensorFlow, PyTorch, Keras\n",
            "* Comunidades e fóruns: Stack Overflow, Reddit (r/MachineLearning, r/DeepLearning)\n"
          ]
        }
      ]
    },
    {
      "cell_type": "code",
      "source": [
        "#Iniciando o chat\n",
        "chat = model.start_chat(history=[])"
      ],
      "metadata": {
        "id": "wfxUyktsUnl9"
      },
      "execution_count": 10,
      "outputs": []
    },
    {
      "cell_type": "code",
      "source": [
        "prompt = input(\"Esperando o prompt: \")\n",
        "\n",
        "while prompt != \"fim\":\n",
        "  response = chat.send_message(prompt)\n",
        "  print(\"Resposta: \", response.text, \"\\n\")\n",
        "  prompt = input(\"Esperando o prompt: \")"
      ],
      "metadata": {
        "colab": {
          "base_uri": "https://localhost:8080/",
          "height": 243
        },
        "id": "WXmslRBBVIBE",
        "outputId": "51044ecb-8d4d-4743-89da-708f18531134"
      },
      "execution_count": 12,
      "outputs": [
        {
          "name": "stdout",
          "output_type": "stream",
          "text": [
            "Esperando o prompt: Qual é a capital do Japão?\n",
            "Resposta:  Tóquio \n",
            "\n",
            "Esperando o prompt: Qual é a comida típica desse país?\n",
            "Resposta:  Sushi \n",
            "\n",
            "Esperando o prompt: Meu primo nasceu nessa cidade. Qual a nacionalidade dele?\n",
            "Resposta:  Japonesa \n",
            "\n",
            "Esperando o prompt: E qual é a população dessa cidade?\n",
            "Resposta:  13.960.236 (2021) \n",
            "\n",
            "Esperando o prompt: fim\n"
          ]
        }
      ]
    }
  ]
}